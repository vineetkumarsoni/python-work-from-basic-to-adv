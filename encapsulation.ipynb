{
 "cells": [
  {
   "cell_type": "code",
   "execution_count": 2,
   "id": "b08b191c-ef50-4e07-b1a7-571deefb7caf",
   "metadata": {},
   "outputs": [],
   "source": [
    "class test:\n",
    "    \n",
    "    \n",
    "    def __init__(self,a,b):\n",
    "        self.a=a\n",
    "        self.b=b"
   ]
  },
  {
   "cell_type": "code",
   "execution_count": 3,
   "id": "89cf2c00-d961-4b86-a875-7ff4894e47e5",
   "metadata": {},
   "outputs": [],
   "source": [
    "t= test(34,67)"
   ]
  },
  {
   "cell_type": "code",
   "execution_count": 4,
   "id": "242537a0-be2a-45d1-a49c-c48373784617",
   "metadata": {},
   "outputs": [
    {
     "data": {
      "text/plain": [
       "34"
      ]
     },
     "execution_count": 4,
     "metadata": {},
     "output_type": "execute_result"
    }
   ],
   "source": [
    "t.a"
   ]
  },
  {
   "cell_type": "code",
   "execution_count": 5,
   "id": "437eaae4-4748-4166-9b2e-78766a061f9f",
   "metadata": {},
   "outputs": [],
   "source": [
    "t.a=123456"
   ]
  },
  {
   "cell_type": "code",
   "execution_count": 6,
   "id": "706b0445-ea57-4be6-9cf3-dc4ba7403c0d",
   "metadata": {},
   "outputs": [
    {
     "data": {
      "text/plain": [
       "123456"
      ]
     },
     "execution_count": 6,
     "metadata": {},
     "output_type": "execute_result"
    }
   ],
   "source": [
    "t.a# any one manupulate data"
   ]
  },
  {
   "cell_type": "code",
   "execution_count": 9,
   "id": "a14d8b19-1f6c-4669-bfa2-11abd1986329",
   "metadata": {},
   "outputs": [],
   "source": [
    "class bike:\n",
    "    def __init__(self,year, maker,model,speed):\n",
    "        self.__year = year \n",
    "        self.__maker = maker\n",
    "        self.__model = model\n",
    "        self.__speed = 0\n",
    "        \n",
    "        \n",
    "        \n",
    "        \n",
    "        \n",
    "    def set_speed(self,speed):\n",
    "        self.__speed=0 if speed<0 else speed\n",
    "        \n",
    "        \n",
    "        \n",
    "        \n",
    "        \n",
    "    def get__speed(self):\n",
    "        return self.__speed\n",
    "        "
   ]
  },
  {
   "cell_type": "code",
   "execution_count": 11,
   "id": "440f1795-e797-4118-a9de-42d4f5ba4361",
   "metadata": {},
   "outputs": [],
   "source": [
    "b= bike(2022,\"honda\",\"vikrant\",250)"
   ]
  },
  {
   "cell_type": "code",
   "execution_count": 12,
   "id": "41b5c3fb-6842-412e-a95c-590e346bbc3d",
   "metadata": {},
   "outputs": [
    {
     "ename": "AttributeError",
     "evalue": "'bike' object has no attribute '__maker'",
     "output_type": "error",
     "traceback": [
      "\u001b[0;31m---------------------------------------------------------------------------\u001b[0m",
      "\u001b[0;31mAttributeError\u001b[0m                            Traceback (most recent call last)",
      "Cell \u001b[0;32mIn[12], line 1\u001b[0m\n\u001b[0;32m----> 1\u001b[0m \u001b[43mb\u001b[49m\u001b[38;5;241;43m.\u001b[39;49m\u001b[43m__maker\u001b[49m\n",
      "\u001b[0;31mAttributeError\u001b[0m: 'bike' object has no attribute '__maker'"
     ]
    }
   ],
   "source": [
    "b.__maker"
   ]
  },
  {
   "cell_type": "code",
   "execution_count": 13,
   "id": "81a17913-6da9-4aa9-bd4b-e51bb950ab9d",
   "metadata": {},
   "outputs": [
    {
     "data": {
      "text/plain": [
       "'honda'"
      ]
     },
     "execution_count": 13,
     "metadata": {},
     "output_type": "execute_result"
    }
   ],
   "source": [
    "b._bike__maker"
   ]
  },
  {
   "cell_type": "code",
   "execution_count": 15,
   "id": "adc357db-34d5-4a11-9cf4-b25953e67f10",
   "metadata": {},
   "outputs": [
    {
     "data": {
      "text/plain": [
       "0"
      ]
     },
     "execution_count": 15,
     "metadata": {},
     "output_type": "execute_result"
    }
   ],
   "source": [
    "b._bike__speed"
   ]
  },
  {
   "cell_type": "code",
   "execution_count": 16,
   "id": "868f6ae5-9950-4ac5-b878-42f31c1e28d8",
   "metadata": {},
   "outputs": [],
   "source": [
    "b.set_speed(-500)"
   ]
  },
  {
   "cell_type": "code",
   "execution_count": 17,
   "id": "3fe223c3-0e68-4c08-84d2-08d21ccdd1a4",
   "metadata": {},
   "outputs": [
    {
     "data": {
      "text/plain": [
       "0"
      ]
     },
     "execution_count": 17,
     "metadata": {},
     "output_type": "execute_result"
    }
   ],
   "source": [
    "b._bike__speed"
   ]
  },
  {
   "cell_type": "code",
   "execution_count": 21,
   "id": "362fc832-848c-4204-bca9-582dbd31732f",
   "metadata": {},
   "outputs": [
    {
     "data": {
      "text/plain": [
       "0"
      ]
     },
     "execution_count": 21,
     "metadata": {},
     "output_type": "execute_result"
    }
   ],
   "source": [
    "b.get__speed()"
   ]
  },
  {
   "cell_type": "code",
   "execution_count": 22,
   "id": "31f95ebd-72ac-4fe5-9af1-d5f4495c74b1",
   "metadata": {},
   "outputs": [],
   "source": [
    "b.set_speed(300)"
   ]
  },
  {
   "cell_type": "code",
   "execution_count": 23,
   "id": "8736aa15-6d12-4442-a9ef-53214022c411",
   "metadata": {},
   "outputs": [
    {
     "data": {
      "text/plain": [
       "300"
      ]
     },
     "execution_count": 23,
     "metadata": {},
     "output_type": "execute_result"
    }
   ],
   "source": [
    "b.get__speed()"
   ]
  },
  {
   "cell_type": "code",
   "execution_count": null,
   "id": "1f142325-1dc1-4a1f-ae2f-9c99107c38c6",
   "metadata": {},
   "outputs": [],
   "source": []
  }
 ],
 "metadata": {
  "kernelspec": {
   "display_name": "Python 3 (ipykernel)",
   "language": "python",
   "name": "python3"
  },
  "language_info": {
   "codemirror_mode": {
    "name": "ipython",
    "version": 3
   },
   "file_extension": ".py",
   "mimetype": "text/x-python",
   "name": "python",
   "nbconvert_exporter": "python",
   "pygments_lexer": "ipython3",
   "version": "3.10.8"
  }
 },
 "nbformat": 4,
 "nbformat_minor": 5
}
