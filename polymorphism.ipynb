{
 "cells": [
  {
   "cell_type": "code",
   "execution_count": 1,
   "id": "d4f5f629-ca55-42d0-83a4-975cc90f3605",
   "metadata": {},
   "outputs": [],
   "source": [
    "class data_science:\n",
    "    def msg(self):\n",
    "        print(\"hey vineet this is data science module\")"
   ]
  },
  {
   "cell_type": "code",
   "execution_count": 2,
   "id": "d28564ae-5b9f-4f95-940c-12968bb0df2d",
   "metadata": {},
   "outputs": [],
   "source": [
    "class data_anlyst:\n",
    "    def msg(self):\n",
    "        print(\"hey vineet this is data analyst module\")"
   ]
  },
  {
   "cell_type": "code",
   "execution_count": 3,
   "id": "0e1d5f89-99c2-41d8-8e65-bed9d3010db6",
   "metadata": {},
   "outputs": [],
   "source": [
    "def class_module(my_classes):\n",
    "    for i in my_classes:\n",
    "        i.msg()\n",
    "        "
   ]
  },
  {
   "cell_type": "code",
   "execution_count": 4,
   "id": "1914c024-045d-4a38-a9d9-9bfba60e594b",
   "metadata": {},
   "outputs": [],
   "source": [
    "data_science=data_science()"
   ]
  },
  {
   "cell_type": "code",
   "execution_count": 5,
   "id": "2c1a00cd-8790-43c9-99e3-773ec074afc6",
   "metadata": {},
   "outputs": [],
   "source": [
    "data_anlyst=data_anlyst()"
   ]
  },
  {
   "cell_type": "code",
   "execution_count": 6,
   "id": "d46adebb-ee9a-4808-9d87-d2283f0fc38f",
   "metadata": {},
   "outputs": [],
   "source": [
    "my_classes=[data_science,data_anlyst]"
   ]
  },
  {
   "cell_type": "code",
   "execution_count": 7,
   "id": "2d8f6e8e-e1ae-4992-b832-35d6e8225f60",
   "metadata": {},
   "outputs": [
    {
     "name": "stdout",
     "output_type": "stream",
     "text": [
      "hey vineet this is data science module\n",
      "hey vineet this is data analyst module\n"
     ]
    }
   ],
   "source": [
    "class_module(my_classes)"
   ]
  },
  {
   "cell_type": "code",
   "execution_count": 8,
   "id": "941dd3ee-31d4-4ebb-91ed-e236b43bfa53",
   "metadata": {},
   "outputs": [],
   "source": [
    "# with this i will msg available in diffrent classes"
   ]
  },
  {
   "cell_type": "code",
   "execution_count": null,
   "id": "2dc9bd80-3175-406c-9285-f83a73619a1f",
   "metadata": {},
   "outputs": [],
   "source": []
  }
 ],
 "metadata": {
  "kernelspec": {
   "display_name": "Python 3 (ipykernel)",
   "language": "python",
   "name": "python3"
  },
  "language_info": {
   "codemirror_mode": {
    "name": "ipython",
    "version": 3
   },
   "file_extension": ".py",
   "mimetype": "text/x-python",
   "name": "python",
   "nbconvert_exporter": "python",
   "pygments_lexer": "ipython3",
   "version": "3.10.8"
  }
 },
 "nbformat": 4,
 "nbformat_minor": 5
}
