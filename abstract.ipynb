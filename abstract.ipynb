{
 "cells": [
  {
   "cell_type": "code",
   "execution_count": 1,
   "id": "7bde8b71-fd2a-42d4-8b5d-35e5e5fe0f43",
   "metadata": {},
   "outputs": [],
   "source": [
    "import abc\n",
    "class skills:\n",
    "    \n",
    "    @abc.abstractmethod\n",
    "    def students_detials(self):\n",
    "        pass\n",
    "    \n",
    "    @abc.abstractmethod\n",
    "    def student_assignemnt(self):\n",
    "        pass\n",
    "    \n",
    "    @abc.abstractmethod\n",
    "    def student_marks(self):\n",
    "        pass"
   ]
  },
  {
   "cell_type": "code",
   "execution_count": 3,
   "id": "9a10041d-1f46-4550-8b89-332a334aae45",
   "metadata": {},
   "outputs": [],
   "source": [
    "class data_anlyst(skills):\n",
    "    def students_detials(self):\n",
    "        return \" vineet kumar soni\"\n",
    "    \n",
    "    def student_assignemnt(self):\n",
    "        return \" complete\""
   ]
  },
  {
   "cell_type": "code",
   "execution_count": 4,
   "id": "b99d2122-35ae-48d4-a4d0-8e7b959fcab8",
   "metadata": {},
   "outputs": [],
   "source": [
    "class data_science(skills):\n",
    "    def students_detials(self):\n",
    "        return\"vineet kumar soni\"\n",
    "    \n",
    "    def student_marks(self):\n",
    "        return \"99 out of 100\""
   ]
  },
  {
   "cell_type": "code",
   "execution_count": 5,
   "id": "906eae9d-5bf6-4b76-9144-25ad51e0012f",
   "metadata": {},
   "outputs": [],
   "source": [
    "ds= data_science()"
   ]
  },
  {
   "cell_type": "code",
   "execution_count": 6,
   "id": "f927c390-6615-4be1-a5b4-1bb5a785c756",
   "metadata": {},
   "outputs": [
    {
     "data": {
      "text/plain": [
       "'vineet kumar soni'"
      ]
     },
     "execution_count": 6,
     "metadata": {},
     "output_type": "execute_result"
    }
   ],
   "source": [
    "ds.students_detials()"
   ]
  },
  {
   "cell_type": "code",
   "execution_count": 7,
   "id": "e07b5859-54bc-4831-9c16-6134aa251332",
   "metadata": {},
   "outputs": [
    {
     "data": {
      "text/plain": [
       "'99 out of 100'"
      ]
     },
     "execution_count": 7,
     "metadata": {},
     "output_type": "execute_result"
    }
   ],
   "source": [
    "ds.student_marks()"
   ]
  },
  {
   "cell_type": "code",
   "execution_count": 8,
   "id": "168ece42-7c56-4a3e-bfc9-9f7c6f590940",
   "metadata": {},
   "outputs": [],
   "source": [
    "da=data_anlyst()"
   ]
  },
  {
   "cell_type": "code",
   "execution_count": 9,
   "id": "fdf09e99-a381-4603-8f8d-910a8f4b828e",
   "metadata": {},
   "outputs": [
    {
     "data": {
      "text/plain": [
       "' vineet kumar soni'"
      ]
     },
     "execution_count": 9,
     "metadata": {},
     "output_type": "execute_result"
    }
   ],
   "source": [
    "da.students_detials()"
   ]
  },
  {
   "cell_type": "code",
   "execution_count": 10,
   "id": "65d56942-81fe-4657-9a24-74767e3dd8e7",
   "metadata": {},
   "outputs": [
    {
     "data": {
      "text/plain": [
       "' complete'"
      ]
     },
     "execution_count": 10,
     "metadata": {},
     "output_type": "execute_result"
    }
   ],
   "source": [
    "da.student_assignemnt()"
   ]
  },
  {
   "cell_type": "code",
   "execution_count": null,
   "id": "793b2740-2586-47e9-a9fd-a86349a18383",
   "metadata": {},
   "outputs": [],
   "source": []
  }
 ],
 "metadata": {
  "kernelspec": {
   "display_name": "Python 3 (ipykernel)",
   "language": "python",
   "name": "python3"
  },
  "language_info": {
   "codemirror_mode": {
    "name": "ipython",
    "version": 3
   },
   "file_extension": ".py",
   "mimetype": "text/x-python",
   "name": "python",
   "nbconvert_exporter": "python",
   "pygments_lexer": "ipython3",
   "version": "3.10.8"
  }
 },
 "nbformat": 4,
 "nbformat_minor": 5
}
