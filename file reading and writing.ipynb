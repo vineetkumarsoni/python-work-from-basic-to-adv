{
 "cells": [
  {
   "cell_type": "code",
   "execution_count": 9,
   "id": "8d7d6de8-e2c7-4f58-aaca-1907f5d2c04e",
   "metadata": {},
   "outputs": [],
   "source": [
    "data= {\n",
    "    \"name\" : \"vineet\",\n",
    "    \"mail_id\" : \"vineet@gmail.com\",\n",
    "    \"phone number\" : 956456546,\n",
    "    \"subject\" : [\"data science \" , \"big data \" , \"data analytics\" ]}"
   ]
  },
  {
   "cell_type": "code",
   "execution_count": 10,
   "id": "d05c84ee-252d-4a56-9e29-323e92633778",
   "metadata": {},
   "outputs": [],
   "source": [
    "import json"
   ]
  },
  {
   "cell_type": "code",
   "execution_count": 11,
   "id": "cb0b8eac-446d-4b73-8080-2a01572a2cef",
   "metadata": {},
   "outputs": [],
   "source": [
    "with open(\"data.json\" , \"w\" ) as f :\n",
    "    json.dump(data , f)"
   ]
  },
  {
   "cell_type": "code",
   "execution_count": 12,
   "id": "55975025-b077-4307-aaba-efafc10ab777",
   "metadata": {},
   "outputs": [],
   "source": [
    "with open(\"data.json\" , \"r\") as f :\n",
    "    data1 = json.load(f)"
   ]
  },
  {
   "cell_type": "code",
   "execution_count": 13,
   "id": "8717e170-1566-4303-b3e8-e25e76f7ec2b",
   "metadata": {},
   "outputs": [
    {
     "data": {
      "text/plain": [
       "{'name': 'vineet',\n",
       " 'mail_id': 'vineet@gmail.com',\n",
       " 'phone number': 956456546,\n",
       " 'subject': ['data science ', 'big data ', 'data analytics']}"
      ]
     },
     "execution_count": 13,
     "metadata": {},
     "output_type": "execute_result"
    }
   ],
   "source": [
    "data1"
   ]
  },
  {
   "cell_type": "code",
   "execution_count": 14,
   "id": "83084893-d1b6-48d0-a086-e7fc66fc562c",
   "metadata": {},
   "outputs": [
    {
     "data": {
      "text/plain": [
       "'big data '"
      ]
     },
     "execution_count": 14,
     "metadata": {},
     "output_type": "execute_result"
    }
   ],
   "source": [
    "data1['subject'][1]"
   ]
  },
  {
   "cell_type": "code",
   "execution_count": 22,
   "id": "3af80ff3-75da-460e-aa1c-ca3e61e91760",
   "metadata": {},
   "outputs": [],
   "source": [
    "import csv"
   ]
  },
  {
   "cell_type": "code",
   "execution_count": 23,
   "id": "2dd1009a-506f-4ffa-8d2b-134d17eed886",
   "metadata": {},
   "outputs": [],
   "source": [
    "data = [[\"name\" , \"email_id\" , \"phone_number\"],\n",
    "        [\"vineet\" ,\"v@gmail.com\" , 92342424],\n",
    "        [\"raja\" , \"raja@gmail.com\" , 9324242]\n",
    "]"
   ]
  },
  {
   "cell_type": "code",
   "execution_count": 28,
   "id": "67047679-6d2f-497b-9339-b27057bb5ca6",
   "metadata": {},
   "outputs": [],
   "source": [
    "with open(\"data.csv\" , \"w\" ) as f :\n",
    "    writer = csv.writer(f)\n",
    "\n",
    "    for i in data:\n",
    "        writer.writerow(i)"
   ]
  },
  {
   "cell_type": "code",
   "execution_count": 30,
   "id": "7e38da67-f3d1-4f76-90ad-7a74d0b394f3",
   "metadata": {},
   "outputs": [
    {
     "name": "stdout",
     "output_type": "stream",
     "text": [
      "['name', 'email_id', 'phone_number']\n",
      "['vineet', 'v@gmail.com', '92342424']\n",
      "['raja', 'raja@gmail.com', '9324242']\n"
     ]
    }
   ],
   "source": [
    "with open (\"data.csv\" , \"r\" ) as f :\n",
    "    read_data = csv.reader(f) \n",
    "    \n",
    "    for i in read_data:\n",
    "        print(i)\n",
    "    "
   ]
  },
  {
   "cell_type": "code",
   "execution_count": null,
   "id": "647548a7-69a2-43fb-bc05-f667a264d3e6",
   "metadata": {},
   "outputs": [],
   "source": []
  },
  {
   "cell_type": "code",
   "execution_count": null,
   "id": "cc458612-cf79-41ee-ac58-e1eeddac4fc4",
   "metadata": {},
   "outputs": [],
   "source": []
  },
  {
   "cell_type": "code",
   "execution_count": null,
   "id": "2d9b92e3-f235-48d2-8565-2c0b02236e8d",
   "metadata": {},
   "outputs": [],
   "source": []
  }
 ],
 "metadata": {
  "kernelspec": {
   "display_name": "Python 3 (ipykernel)",
   "language": "python",
   "name": "python3"
  },
  "language_info": {
   "codemirror_mode": {
    "name": "ipython",
    "version": 3
   },
   "file_extension": ".py",
   "mimetype": "text/x-python",
   "name": "python",
   "nbconvert_exporter": "python",
   "pygments_lexer": "ipython3",
   "version": "3.10.8"
  }
 },
 "nbformat": 4,
 "nbformat_minor": 5
}
