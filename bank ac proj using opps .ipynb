{
 "cells": [
  {
   "cell_type": "code",
   "execution_count": 18,
   "id": "a864450d-8f3c-4d62-9f05-bcbb860dd8ac",
   "metadata": {},
   "outputs": [],
   "source": [
    "class bank_account:\n",
    "    def __init__(self, balance):\n",
    "        self.__update_balance=balance\n",
    "        \n",
    "        \n",
    "    def deposit(self,amount):\n",
    "        self.__update_balance= self.__update_balance + amount\n",
    "        \n",
    "    def withdraw(self, amount):\n",
    "        if self.__update_balance>= amount:\n",
    "            self.__update_balance = self.__update_balance - amount\n",
    "            return True \n",
    "        else:\n",
    "            return False\n",
    "    \n",
    "    def get_balance (self):\n",
    "        return self.__update_balance"
   ]
  },
  {
   "cell_type": "code",
   "execution_count": 16,
   "id": "21a173dd-36ef-49d8-81c7-488cf893f7d0",
   "metadata": {},
   "outputs": [],
   "source": [
    "vineet = bank_account(10000)"
   ]
  },
  {
   "cell_type": "code",
   "execution_count": 17,
   "id": "aa6a25ac-0823-41fc-9351-eb70ceda4990",
   "metadata": {},
   "outputs": [
    {
     "data": {
      "text/plain": [
       "10000"
      ]
     },
     "execution_count": 17,
     "metadata": {},
     "output_type": "execute_result"
    }
   ],
   "source": [
    "vineet.get_balance()"
   ]
  },
  {
   "cell_type": "code",
   "execution_count": 19,
   "id": "06eb81c0-4341-4018-a5aa-0755b61c7f04",
   "metadata": {},
   "outputs": [],
   "source": [
    "vineet.deposit(20000)"
   ]
  },
  {
   "cell_type": "code",
   "execution_count": 20,
   "id": "c3eae9f0-31d8-4545-90a5-e4d18de1ffc6",
   "metadata": {},
   "outputs": [
    {
     "data": {
      "text/plain": [
       "30000"
      ]
     },
     "execution_count": 20,
     "metadata": {},
     "output_type": "execute_result"
    }
   ],
   "source": [
    "vineet.get_balance()"
   ]
  },
  {
   "cell_type": "code",
   "execution_count": 21,
   "id": "1db23c31-f53e-4822-b8f5-607ca5f90e36",
   "metadata": {},
   "outputs": [
    {
     "data": {
      "text/plain": [
       "True"
      ]
     },
     "execution_count": 21,
     "metadata": {},
     "output_type": "execute_result"
    }
   ],
   "source": [
    "vineet.withdraw(15000)"
   ]
  },
  {
   "cell_type": "code",
   "execution_count": 22,
   "id": "9660e42f-98db-4f1a-8ad3-b1d5790052a0",
   "metadata": {},
   "outputs": [
    {
     "data": {
      "text/plain": [
       "15000"
      ]
     },
     "execution_count": 22,
     "metadata": {},
     "output_type": "execute_result"
    }
   ],
   "source": [
    "vineet.get_balance()"
   ]
  },
  {
   "cell_type": "code",
   "execution_count": 23,
   "id": "8299c182-3bb8-453c-a683-26c9ebf44a55",
   "metadata": {},
   "outputs": [
    {
     "data": {
      "text/plain": [
       "False"
      ]
     },
     "execution_count": 23,
     "metadata": {},
     "output_type": "execute_result"
    }
   ],
   "source": [
    "vineet.withdraw(16000)"
   ]
  },
  {
   "cell_type": "code",
   "execution_count": null,
   "id": "5eb2b6fd-926d-4882-9baf-2667a3816427",
   "metadata": {},
   "outputs": [],
   "source": []
  }
 ],
 "metadata": {
  "kernelspec": {
   "display_name": "Python 3 (ipykernel)",
   "language": "python",
   "name": "python3"
  },
  "language_info": {
   "codemirror_mode": {
    "name": "ipython",
    "version": 3
   },
   "file_extension": ".py",
   "mimetype": "text/x-python",
   "name": "python",
   "nbconvert_exporter": "python",
   "pygments_lexer": "ipython3",
   "version": "3.10.8"
  }
 },
 "nbformat": 4,
 "nbformat_minor": 5
}
