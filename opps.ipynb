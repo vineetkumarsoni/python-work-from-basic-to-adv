{
 "cells": [
  {
   "cell_type": "code",
   "execution_count": 1,
   "id": "a3be91ab-38ac-4f84-9fd1-81c8662d1e81",
   "metadata": {},
   "outputs": [],
   "source": [
    "class learner:\n",
    "    def welcm_msg(self):\n",
    "        print(\"hello sir good to see you \")"
   ]
  },
  {
   "cell_type": "code",
   "execution_count": 2,
   "id": "a5a400f2-6f12-4dfc-a3b4-8cb8eb932fb2",
   "metadata": {},
   "outputs": [],
   "source": [
    "vineet=learner()"
   ]
  },
  {
   "cell_type": "code",
   "execution_count": 3,
   "id": "c2d35c07-8be0-4994-84f7-6d59ddb60033",
   "metadata": {},
   "outputs": [
    {
     "name": "stdout",
     "output_type": "stream",
     "text": [
      "hello sir good to see you \n"
     ]
    }
   ],
   "source": [
    "vineet.welcm_msg()"
   ]
  },
  {
   "cell_type": "code",
   "execution_count": 5,
   "id": "b1d0ceb4-2f75-4134-a2df-6b7f68d84950",
   "metadata": {},
   "outputs": [
    {
     "ename": "NameError",
     "evalue": "name 'ankit' is not defined",
     "output_type": "error",
     "traceback": [
      "\u001b[0;31m---------------------------------------------------------------------------\u001b[0m",
      "\u001b[0;31mNameError\u001b[0m                                 Traceback (most recent call last)",
      "Cell \u001b[0;32mIn[5], line 1\u001b[0m\n\u001b[0;32m----> 1\u001b[0m \u001b[43mankit\u001b[49m\u001b[38;5;241m.\u001b[39mwelcm_msg()\u001b[38;5;66;03m# error becz first put veriable in class than fuction or methode apply on it\u001b[39;00m\n",
      "\u001b[0;31mNameError\u001b[0m: name 'ankit' is not defined"
     ]
    }
   ],
   "source": [
    "ankit.welcm_msg()# error becz first put veriable in class than fuction or methode apply on it"
   ]
  },
  {
   "cell_type": "code",
   "execution_count": 6,
   "id": "907322fe-2aec-45eb-b06e-20124f210889",
   "metadata": {},
   "outputs": [
    {
     "ename": "SyntaxError",
     "evalue": "invalid syntax (2036480301.py, line 3)",
     "output_type": "error",
     "traceback": [
      "\u001b[0;36m  Cell \u001b[0;32mIn[6], line 3\u001b[0;36m\u001b[0m\n\u001b[0;31m    def__init__(self,a,b,c):\u001b[0m\n\u001b[0m                           ^\u001b[0m\n\u001b[0;31mSyntaxError\u001b[0m\u001b[0;31m:\u001b[0m invalid syntax\n"
     ]
    }
   ],
   "source": [
    "class python_course:\n",
    "    \n",
    "    def__init__(self,a,b,c):\n",
    "        self.phn_no=a\n",
    "        self.email_id=b\n",
    "        self.stu_id=c"
   ]
  },
  {
   "cell_type": "code",
   "execution_count": 7,
   "id": "82c57c55-df1f-4e0c-bea3-ec669da35abf",
   "metadata": {},
   "outputs": [],
   "source": [
    "class pwskills1 :\n",
    "    \n",
    "    def __init__(self ,phone_number , email_id , student_id ):# def ke baad space is must\n",
    "        self.phone_number = phone_number\n",
    "        self.email_id = email_id\n",
    "        self.student_id = student_id\n",
    "    \n",
    "    def return_student_deetials(self) : \n",
    "        return self.student_id ,self.phone_number ,self.email_id"
   ]
  },
  {
   "cell_type": "code",
   "execution_count": 1,
   "id": "a874ebf8-4f03-43f9-91b1-7b90987494da",
   "metadata": {},
   "outputs": [],
   "source": [
    "class python_course :\n",
    "    \n",
    "    def __init__(self,a,b,c):\n",
    "        self.phn_no=a\n",
    "        self.email_id=b\n",
    "        self.stu_id=c\n",
    "        \n",
    "    def return_student_deetials(self) : \n",
    "        return self.phn_no ,self.stu_id,self.email_id\n"
   ]
  },
  {
   "cell_type": "code",
   "execution_count": 2,
   "id": "82b856a2-7f16-4893-9b9a-2eea7e764595",
   "metadata": {},
   "outputs": [],
   "source": [
    "vineet=python_course(123456789,\"vineet@gmail\",565)"
   ]
  },
  {
   "cell_type": "code",
   "execution_count": 3,
   "id": "7289afa7-6e04-473f-97f7-b04123427392",
   "metadata": {},
   "outputs": [
    {
     "data": {
      "text/plain": [
       "'vineet@gmail'"
      ]
     },
     "execution_count": 3,
     "metadata": {},
     "output_type": "execute_result"
    }
   ],
   "source": [
    "vineet.email_id"
   ]
  },
  {
   "cell_type": "code",
   "execution_count": 4,
   "id": "08bcbe2d-3b60-4a0b-91f9-5e37ea433ce4",
   "metadata": {},
   "outputs": [],
   "source": [
    "#polymorphism"
   ]
  },
  {
   "cell_type": "code",
   "execution_count": 5,
   "id": "508bf313-4551-4396-976e-8da6143bd919",
   "metadata": {},
   "outputs": [],
   "source": [
    "class data_science:\n",
    "    def msg(self):\n",
    "        print(\"hey vineet this is data science module\")"
   ]
  },
  {
   "cell_type": "code",
   "execution_count": 6,
   "id": "0de61f3b-5bff-453b-a541-f95a5e513133",
   "metadata": {},
   "outputs": [],
   "source": [
    "class data_anlyst:\n",
    "    def msg(self):\n",
    "        print(\"hey vineet this is data analyst module\")"
   ]
  },
  {
   "cell_type": "code",
   "execution_count": 9,
   "id": "533127c3-9e2d-4587-84c7-31897f6e6a7c",
   "metadata": {},
   "outputs": [],
   "source": [
    "def class_module(my_classes):\n",
    "    for i in my_classes:\n",
    "        i.msg()\n",
    "        "
   ]
  },
  {
   "cell_type": "code",
   "execution_count": 10,
   "id": "c7fbe6cd-b7c0-4c6b-ad38-cfd89863f603",
   "metadata": {},
   "outputs": [],
   "source": [
    "data_science=data_science()"
   ]
  },
  {
   "cell_type": "code",
   "execution_count": 11,
   "id": "2d2eb9db-32ae-4b23-a682-2c6f57f357da",
   "metadata": {},
   "outputs": [],
   "source": [
    "data_anlyst=data_anlyst()"
   ]
  },
  {
   "cell_type": "code",
   "execution_count": 12,
   "id": "f3ed0ee3-7d5d-432a-8960-9d2875ef8d74",
   "metadata": {},
   "outputs": [],
   "source": [
    "my_classes=[data_science,data_anlyst]"
   ]
  },
  {
   "cell_type": "code",
   "execution_count": 13,
   "id": "b485ff92-214f-4488-b8ff-dfba9f4e7601",
   "metadata": {},
   "outputs": [
    {
     "name": "stdout",
     "output_type": "stream",
     "text": [
      "hey vineet this is data science module\n",
      "hey vineet this is data analyst module\n"
     ]
    }
   ],
   "source": [
    "class_module(my_classes)"
   ]
  },
  {
   "cell_type": "code",
   "execution_count": null,
   "id": "f7d2007b-690a-43ea-b9a6-fe3d00bf4a9b",
   "metadata": {},
   "outputs": [],
   "source": [
    "# with this i will msg available in diffrent classes"
   ]
  }
 ],
 "metadata": {
  "kernelspec": {
   "display_name": "Python 3 (ipykernel)",
   "language": "python",
   "name": "python3"
  },
  "language_info": {
   "codemirror_mode": {
    "name": "ipython",
    "version": 3
   },
   "file_extension": ".py",
   "mimetype": "text/x-python",
   "name": "python",
   "nbconvert_exporter": "python",
   "pygments_lexer": "ipython3",
   "version": "3.10.8"
  }
 },
 "nbformat": 4,
 "nbformat_minor": 5
}
