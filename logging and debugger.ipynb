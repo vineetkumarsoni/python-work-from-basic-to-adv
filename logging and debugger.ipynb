{
 "cells": [
  {
   "cell_type": "code",
   "execution_count": 1,
   "id": "7cbc664e-39ad-4fd7-bca7-bbbb94d6cccd",
   "metadata": {},
   "outputs": [],
   "source": [
    "import logging"
   ]
  },
  {
   "cell_type": "code",
   "execution_count": 2,
   "id": "939036cd-8ac1-4258-9caf-fda2285795a2",
   "metadata": {},
   "outputs": [],
   "source": [
    "logging.basicConfig(filename = \"test.log\", level= logging.INFO)"
   ]
  },
  {
   "cell_type": "code",
   "execution_count": 3,
   "id": "9c55c5ce-1399-4626-b2f8-e1ee20545596",
   "metadata": {},
   "outputs": [],
   "source": [
    "logging.info(\"log this line of executation\" )"
   ]
  },
  {
   "cell_type": "code",
   "execution_count": 7,
   "id": "b6b9bf13-8be5-4cc5-b27d-9b8d114e68b4",
   "metadata": {},
   "outputs": [],
   "source": [
    "logging.info(\"this is my print\")"
   ]
  },
  {
   "cell_type": "code",
   "execution_count": null,
   "id": "ba7f33c1-d2a9-4c27-9b76-b094b27d70a7",
   "metadata": {},
   "outputs": [],
   "source": [
    "1. NOTSET\n",
    "2. DEBUG\n",
    "3. INFO\n",
    "4. WARNING\n",
    "5. ERROR\n",
    "6. CRITICAL"
   ]
  },
  {
   "cell_type": "code",
   "execution_count": 6,
   "id": "965c8c00-e005-4249-a086-18e6321e3cc9",
   "metadata": {},
   "outputs": [],
   "source": [
    "logging.debug(\"this is my msg\")# nahi looging hoga file me because level set in info aur debug uske upar aa raha hai info ke neeche wale sabhi logging ho jayenge \n"
   ]
  },
  {
   "cell_type": "code",
   "execution_count": 8,
   "id": "91d3c8ca-fc30-400c-8777-037e230317ee",
   "metadata": {},
   "outputs": [],
   "source": [
    "logging.warning(\"this is my warning msg\")"
   ]
  },
  {
   "cell_type": "code",
   "execution_count": 9,
   "id": "9e810ee8-9187-4a8a-8c4d-bf291cf4ff98",
   "metadata": {},
   "outputs": [],
   "source": [
    "logging.error(\"this is my error\")"
   ]
  },
  {
   "cell_type": "code",
   "execution_count": 16,
   "id": "738c96ba-33ce-40c7-9ef0-9d06510d8914",
   "metadata": {},
   "outputs": [],
   "source": [
    "logging.shutdown()"
   ]
  },
  {
   "cell_type": "code",
   "execution_count": 1,
   "id": "6a02c2f4-89b7-4953-a046-3c34d0397d03",
   "metadata": {},
   "outputs": [],
   "source": [
    "import logging"
   ]
  },
  {
   "cell_type": "code",
   "execution_count": 2,
   "id": "1b290f23-fc94-4869-98bd-5b55547b5db1",
   "metadata": {},
   "outputs": [],
   "source": [
    "logging.basicConfig(filename = \"test1.log\" , level =logging.DEBUG , format = '%(asctime)s %(message)s' )"
   ]
  },
  {
   "cell_type": "code",
   "execution_count": 3,
   "id": "0dbbf742-d01f-4cf4-a6aa-42db0598fa94",
   "metadata": {},
   "outputs": [],
   "source": [
    "logging.info(\"this is my info logging \" )\n",
    "logging.error(\"this is my error msg\" )\n",
    "logging.critical(\"this is my critical\")"
   ]
  },
  {
   "cell_type": "code",
   "execution_count": 4,
   "id": "08d5e4e2-33ac-435d-9b89-7d713337aea6",
   "metadata": {},
   "outputs": [],
   "source": [
    "logging.shutdown()"
   ]
  },
  {
   "cell_type": "code",
   "execution_count": 2,
   "id": "b7bace5b-faab-4916-b422-eb18cb878ff5",
   "metadata": {},
   "outputs": [],
   "source": [
    "logging.basicConfig(filename = \"test2.log\" , level = logging.DEBUG , format = '%(asctime)s %(name)s %(levelname)s  %(message)s')"
   ]
  },
  {
   "cell_type": "code",
   "execution_count": 3,
   "id": "a2196fd5-39dc-4c64-a5f5-6b7b0c94d6be",
   "metadata": {},
   "outputs": [],
   "source": [
    "logging.info(\"this is my info logging \" )\n",
    "logging.error(\"this is my error msg\" )\n",
    "logging.critical(\"this is my critical\")"
   ]
  },
  {
   "cell_type": "code",
   "execution_count": 4,
   "id": "79602f7c-aa08-4f0e-ae5f-c93e391f4c44",
   "metadata": {},
   "outputs": [],
   "source": [
    "l = [1,2,3,34,4,[2,3,4] , \"vineet\" , \"kumar\",\"soni\"]"
   ]
  },
  {
   "cell_type": "code",
   "execution_count": 5,
   "id": "cf1d3508-263b-4024-b8e3-94a6c1abe593",
   "metadata": {},
   "outputs": [],
   "source": [
    "l1_int=[]\n",
    "l2_str=[]\n",
    "for i in l:\n",
    "    if type(i ) == list :\n",
    "         for j in i :\n",
    "                if type(j) == int :\n",
    "                     l1_int.append(j)\n",
    "                        \n",
    "                    \n",
    "    elif type(i) == int :\n",
    "        l1_int.append(i)\n",
    "    else :\n",
    "        if type(i) == str :\n",
    "            l2_str.append(i)           \n",
    "        \n",
    "    "
   ]
  },
  {
   "cell_type": "code",
   "execution_count": 6,
   "id": "2383be36-96e9-4b47-ba3e-d9208ec8f573",
   "metadata": {},
   "outputs": [
    {
     "data": {
      "text/plain": [
       "[1, 2, 3, 34, 4, 2, 3, 4]"
      ]
     },
     "execution_count": 6,
     "metadata": {},
     "output_type": "execute_result"
    }
   ],
   "source": [
    "l1_int"
   ]
  },
  {
   "cell_type": "code",
   "execution_count": 7,
   "id": "9e393d13-4548-499d-9117-f8a4d9462255",
   "metadata": {},
   "outputs": [
    {
     "data": {
      "text/plain": [
       "['vineet', 'kumar', 'soni']"
      ]
     },
     "execution_count": 7,
     "metadata": {},
     "output_type": "execute_result"
    }
   ],
   "source": [
    "l2_str"
   ]
  },
  {
   "cell_type": "code",
   "execution_count": 8,
   "id": "41febb1f-a782-48d1-8bfc-ab0f8e3a97c6",
   "metadata": {},
   "outputs": [],
   "source": [
    "l1_int = []\n",
    "l2_str = []\n",
    "for i in l :\n",
    "    logging.info(\"we are iterating throuhg our list and our local var is {}\".format(l ))\n",
    "    if type(i ) == list :\n",
    "        logging.info(\"i am inside if statement and i am trying to check list type\" + str(i))\n",
    "        for j in i :\n",
    "            logging.info(\"i am in anothe for loop for list inside list element \"+ str(j))\n",
    "            if type(j) == int :\n",
    "                logging.info(\"i am inside if statement\")\n",
    "                l1_int.append(j)\n",
    "    elif type(i) == int :\n",
    "        l1_int.append(i)\n",
    "    else :\n",
    "        if type(i) == str :\n",
    "            l2_str.append(i)\n",
    "logging.info(\"my final result for int is {l1} and str is {l2}\".format(l1 =l1_int , l2 = l2_str ))\n",
    "# all log info registered in  test2.log file (pls check)\n"
   ]
  },
  {
   "cell_type": "code",
   "execution_count": null,
   "id": "7bef494a-fd68-4e59-baba-4ed1469ebc1c",
   "metadata": {},
   "outputs": [],
   "source": []
  }
 ],
 "metadata": {
  "kernelspec": {
   "display_name": "Python 3 (ipykernel)",
   "language": "python",
   "name": "python3"
  },
  "language_info": {
   "codemirror_mode": {
    "name": "ipython",
    "version": 3
   },
   "file_extension": ".py",
   "mimetype": "text/x-python",
   "name": "python",
   "nbconvert_exporter": "python",
   "pygments_lexer": "ipython3",
   "version": "3.10.8"
  }
 },
 "nbformat": 4,
 "nbformat_minor": 5
}
