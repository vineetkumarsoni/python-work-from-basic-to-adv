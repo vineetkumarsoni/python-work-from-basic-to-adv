{
 "cells": [
  {
   "cell_type": "code",
   "execution_count": 1,
   "id": "3b10eaba-08c5-4cd5-825b-ec89329953fa",
   "metadata": {},
   "outputs": [],
   "source": [
    "class skills:\n",
    "    \n",
    "    \n",
    "    def __init__(self,name,email):\n",
    "        self.name = name \n",
    "        self.email = email\n",
    "        \n",
    "    def students_details(self):\n",
    "        print(self.name , self.email)\n",
    "        "
   ]
  },
  {
   "cell_type": "code",
   "execution_count": 2,
   "id": "2f6c8b11-778b-4bce-89aa-acac89ae77d5",
   "metadata": {},
   "outputs": [],
   "source": [
    "course =skills(\"vineet\" , \"vineet@gmail.com\")"
   ]
  },
  {
   "cell_type": "code",
   "execution_count": 7,
   "id": "87d85fb9-1948-4593-9f95-d27583048f17",
   "metadata": {},
   "outputs": [
    {
     "name": "stdout",
     "output_type": "stream",
     "text": [
      "vineet vineet@gmail.com\n"
     ]
    }
   ],
   "source": [
    "course.students_details()"
   ]
  },
  {
   "cell_type": "code",
   "execution_count": 5,
   "id": "9c8f6166-e214-49ae-91a9-94a4ba57b9a6",
   "metadata": {},
   "outputs": [
    {
     "data": {
      "text/plain": [
       "'vineet'"
      ]
     },
     "execution_count": 5,
     "metadata": {},
     "output_type": "execute_result"
    }
   ],
   "source": [
    "course.name"
   ]
  },
  {
   "cell_type": "code",
   "execution_count": 8,
   "id": "53de8187-5f81-4799-b959-56cfe63e75cf",
   "metadata": {},
   "outputs": [
    {
     "data": {
      "text/plain": [
       "'vineet@gmail.com'"
      ]
     },
     "execution_count": 8,
     "metadata": {},
     "output_type": "execute_result"
    }
   ],
   "source": [
    "course.email"
   ]
  },
  {
   "cell_type": "code",
   "execution_count": 9,
   "id": "b6c29110-f34a-4c95-b19b-e675e46c24c4",
   "metadata": {},
   "outputs": [],
   "source": [
    "class skills1:\n",
    "    \n",
    "    \n",
    "    def __init__(self,name,email):\n",
    "        self.name = name \n",
    "        self.email = email\n",
    "    @classmethod   \n",
    "    def details (cls,name ,email):\n",
    "        return cls(name , email)\n",
    "        \n",
    "    def students_details(self):\n",
    "        print(self.name , self.email)"
   ]
  },
  {
   "cell_type": "code",
   "execution_count": 15,
   "id": "7b35c579-eba5-4df0-839b-5d4b92a44a0b",
   "metadata": {},
   "outputs": [
    {
     "data": {
      "text/plain": [
       "<__main__.skills1 at 0x7f2c5af2de10>"
      ]
     },
     "execution_count": 15,
     "metadata": {},
     "output_type": "execute_result"
    }
   ],
   "source": [
    "skills1.details(\"vineet\" , \"vineet@gmail.com\")"
   ]
  },
  {
   "cell_type": "code",
   "execution_count": 16,
   "id": "793626ad-cd4b-4e1b-8396-bacb4f75289e",
   "metadata": {},
   "outputs": [],
   "source": [
    "sk=skills1.details(\"vineet\" , \"vineet@gmail.com\")"
   ]
  },
  {
   "cell_type": "code",
   "execution_count": 17,
   "id": "163eb3c4-9b28-4814-9012-0519049ad9fc",
   "metadata": {},
   "outputs": [
    {
     "data": {
      "text/plain": [
       "'vineet@gmail.com'"
      ]
     },
     "execution_count": 17,
     "metadata": {},
     "output_type": "execute_result"
    }
   ],
   "source": [
    "sk.email"
   ]
  },
  {
   "cell_type": "code",
   "execution_count": 18,
   "id": "f88e8ffb-abb4-4d08-8828-b54112375fa3",
   "metadata": {},
   "outputs": [
    {
     "data": {
      "text/plain": [
       "'vineet'"
      ]
     },
     "execution_count": 18,
     "metadata": {},
     "output_type": "execute_result"
    }
   ],
   "source": [
    "sk.name"
   ]
  },
  {
   "cell_type": "code",
   "execution_count": 19,
   "id": "b5a6ec4f-8eb9-491d-9660-0cc92c918690",
   "metadata": {},
   "outputs": [
    {
     "name": "stdout",
     "output_type": "stream",
     "text": [
      "vineet vineet@gmail.com\n"
     ]
    }
   ],
   "source": [
    "sk.students_details()"
   ]
  },
  {
   "cell_type": "code",
   "execution_count": 21,
   "id": "c9683553-6d22-4f80-b1fc-99c3c2547777",
   "metadata": {},
   "outputs": [],
   "source": [
    "class pwskills2 : \n",
    "    \n",
    "    mobile_num = 912342424\n",
    "    \n",
    "    def __init__(self , name , email) :\n",
    "        \n",
    "        self.name = name \n",
    "        self.email = email\n",
    "    \n",
    "    @classmethod\n",
    "    def change_number(cls, mobile):\n",
    "        pwskills2.mobile_num = mobile\n",
    "    \n",
    "    @classmethod\n",
    "    def details(cls ,name, email ):\n",
    "        return cls(name , email)\n",
    "        \n",
    "    def students_details(self):\n",
    "        print(self.name , self.email,pwskills2.mobile_num)"
   ]
  },
  {
   "cell_type": "code",
   "execution_count": 24,
   "id": "e4f38499-89ce-46d8-8cc6-01a404a0c80b",
   "metadata": {},
   "outputs": [],
   "source": [
    "pw_obj = pwskills2(\"sudh\" , \"sudh@gmail.com\")"
   ]
  },
  {
   "cell_type": "code",
   "execution_count": 26,
   "id": "43ce5db8-5c0e-4beb-9f53-ca81ecf80e39",
   "metadata": {},
   "outputs": [
    {
     "name": "stdout",
     "output_type": "stream",
     "text": [
      "sudh sudh@gmail.com 912342424\n"
     ]
    }
   ],
   "source": [
    "pw_obj.students_details()"
   ]
  },
  {
   "cell_type": "code",
   "execution_count": 29,
   "id": "d633083c-b1b7-4fde-9b23-e6660d4d3a35",
   "metadata": {},
   "outputs": [
    {
     "data": {
      "text/plain": [
       "<bound method pwskills2.details of <class '__main__.pwskills2'>>"
      ]
     },
     "execution_count": 29,
     "metadata": {},
     "output_type": "execute_result"
    }
   ],
   "source": [
    "pw_obj.details"
   ]
  },
  {
   "cell_type": "code",
   "execution_count": 30,
   "id": "eced42d6-00d6-4326-b274-f0908e38dd50",
   "metadata": {},
   "outputs": [],
   "source": [
    "pw = pwskills2.details(\"vinnet\",\"vineet@gmail.com\")"
   ]
  },
  {
   "cell_type": "code",
   "execution_count": 33,
   "id": "8acb7921-c482-42c4-b21c-5537ce5e9762",
   "metadata": {},
   "outputs": [
    {
     "name": "stdout",
     "output_type": "stream",
     "text": [
      "vinnet vineet@gmail.com 912342424\n"
     ]
    }
   ],
   "source": [
    "pw.students_details()"
   ]
  },
  {
   "cell_type": "code",
   "execution_count": 34,
   "id": "debb3917-4423-4d1b-bce0-ff60199b5551",
   "metadata": {},
   "outputs": [],
   "source": [
    "class pwskills3 : \n",
    "    \n",
    "    mobile_num = 912342424\n",
    "    \n",
    "    def __init__(self , name , email) :\n",
    "        \n",
    "        self.name = name \n",
    "        self.email = email\n",
    "    \n",
    "    @classmethod\n",
    "    def change_number(cls, mobile):\n",
    "        pwskills2.mobile_num = mobile\n",
    "    \n",
    "    @classmethod\n",
    "    def details(cls ,name, email ):\n",
    "        return cls(name , email)\n",
    "        \n",
    "    def students_details(self):\n",
    "        print(self.name , self.email,pwskills2.mobile_num)"
   ]
  },
  {
   "cell_type": "code",
   "execution_count": 35,
   "id": "27cb0843-5033-4820-b618-f59b3cf64d5b",
   "metadata": {},
   "outputs": [],
   "source": [
    "def course_details(cls,course_name) : \n",
    "    print(\"course name is \" , course_name)"
   ]
  },
  {
   "cell_type": "code",
   "execution_count": 36,
   "id": "a78a11dc-9c77-4fb1-baff-823a4a60c19f",
   "metadata": {},
   "outputs": [],
   "source": [
    "pwskills3.course_details = classmethod(course_details)"
   ]
  },
  {
   "cell_type": "code",
   "execution_count": 39,
   "id": "6696c678-6f24-41cd-8876-72fb8918b3af",
   "metadata": {},
   "outputs": [
    {
     "name": "stdout",
     "output_type": "stream",
     "text": [
      "course name is  dsa\n"
     ]
    }
   ],
   "source": [
    "pwskills3.course_details(\"dsa\")"
   ]
  },
  {
   "cell_type": "code",
   "execution_count": null,
   "id": "236b9d8b-d9ac-4bda-99dc-dbe84391149a",
   "metadata": {},
   "outputs": [],
   "source": []
  }
 ],
 "metadata": {
  "kernelspec": {
   "display_name": "Python 3 (ipykernel)",
   "language": "python",
   "name": "python3"
  },
  "language_info": {
   "codemirror_mode": {
    "name": "ipython",
    "version": 3
   },
   "file_extension": ".py",
   "mimetype": "text/x-python",
   "name": "python",
   "nbconvert_exporter": "python",
   "pygments_lexer": "ipython3",
   "version": "3.10.8"
  }
 },
 "nbformat": 4,
 "nbformat_minor": 5
}
