{
 "cells": [
  {
   "cell_type": "code",
   "execution_count": 1,
   "id": "52ed15b4-a185-4b00-ae0b-56dfa68da4d7",
   "metadata": {},
   "outputs": [],
   "source": [
    "class parent:\n",
    "    def test(self):\n",
    "        return\"this is a property of my parent\"\n",
    "    "
   ]
  },
  {
   "cell_type": "code",
   "execution_count": 3,
   "id": "36c37071-eb6d-4995-ab78-4198c4695620",
   "metadata": {},
   "outputs": [],
   "source": [
    "class child(parent):\n",
    "    pass"
   ]
  },
  {
   "cell_type": "code",
   "execution_count": 4,
   "id": "2a659af4-2f23-48b0-bf58-99cabee6ce5a",
   "metadata": {},
   "outputs": [],
   "source": [
    "child_obj=child()"
   ]
  },
  {
   "cell_type": "code",
   "execution_count": 6,
   "id": "339cda3c-1a99-4165-8446-2da90cd9c17a",
   "metadata": {},
   "outputs": [
    {
     "data": {
      "text/plain": [
       "'this is a property of my parent'"
      ]
     },
     "execution_count": 6,
     "metadata": {},
     "output_type": "execute_result"
    }
   ],
   "source": [
    "child_obj.test()"
   ]
  },
  {
   "cell_type": "code",
   "execution_count": null,
   "id": "7d6f39c0-2842-4aba-a5ff-d0a59de486ea",
   "metadata": {},
   "outputs": [],
   "source": [
    "# multy level"
   ]
  },
  {
   "cell_type": "code",
   "execution_count": 9,
   "id": "95c4ab12-316b-44eb-ae2d-c9c789e65a37",
   "metadata": {},
   "outputs": [],
   "source": [
    "class class1:\n",
    "    def test_class1(self):\n",
    "        return\"methode of class1\""
   ]
  },
  {
   "cell_type": "code",
   "execution_count": 11,
   "id": "16cada8d-4edf-4f6f-91d0-52382e5feddb",
   "metadata": {},
   "outputs": [],
   "source": [
    "class class2(class1):\n",
    "    def test_class2(self):\n",
    "        return \"methode of class2\""
   ]
  },
  {
   "cell_type": "code",
   "execution_count": 14,
   "id": "b8d3a7d2-bf11-43ef-8454-c2568de59566",
   "metadata": {},
   "outputs": [],
   "source": [
    "class class3(class2):\n",
    "    pass"
   ]
  },
  {
   "cell_type": "code",
   "execution_count": 15,
   "id": "160a354e-e650-49d4-8fd7-03a440cd46e0",
   "metadata": {},
   "outputs": [],
   "source": [
    "obj_class3=class3()"
   ]
  },
  {
   "cell_type": "code",
   "execution_count": 16,
   "id": "cc8f70df-7b7e-4ad5-b574-758999570d61",
   "metadata": {},
   "outputs": [
    {
     "data": {
      "text/plain": [
       "'methode of class2'"
      ]
     },
     "execution_count": 16,
     "metadata": {},
     "output_type": "execute_result"
    }
   ],
   "source": [
    "obj_class3.test_class2()"
   ]
  },
  {
   "cell_type": "code",
   "execution_count": 17,
   "id": "bee5e004-fc82-4e20-b2ed-b09148631832",
   "metadata": {},
   "outputs": [
    {
     "data": {
      "text/plain": [
       "'methode of class1'"
      ]
     },
     "execution_count": 17,
     "metadata": {},
     "output_type": "execute_result"
    }
   ],
   "source": [
    "obj_class3.test_class1()"
   ]
  },
  {
   "cell_type": "code",
   "execution_count": 18,
   "id": "02760ff8-42f0-4a5b-9b0d-9ca70151a635",
   "metadata": {},
   "outputs": [],
   "source": [
    "obj_class2=class2()"
   ]
  },
  {
   "cell_type": "code",
   "execution_count": 19,
   "id": "9fc834fe-5066-44ba-8bc8-a0cb6b44afe1",
   "metadata": {},
   "outputs": [
    {
     "data": {
      "text/plain": [
       "'methode of class1'"
      ]
     },
     "execution_count": 19,
     "metadata": {},
     "output_type": "execute_result"
    }
   ],
   "source": [
    "obj_class2.test_class1()"
   ]
  },
  {
   "cell_type": "code",
   "execution_count": 20,
   "id": "d0f11fdf-339f-4af4-8aad-b9e635ee3d1b",
   "metadata": {},
   "outputs": [
    {
     "data": {
      "text/plain": [
       "'methode of class2'"
      ]
     },
     "execution_count": 20,
     "metadata": {},
     "output_type": "execute_result"
    }
   ],
   "source": [
    "obj_class2.test_class2()"
   ]
  },
  {
   "cell_type": "code",
   "execution_count": 23,
   "id": "9d1ca3f0-871d-404c-bf4c-18674cd885bc",
   "metadata": {},
   "outputs": [],
   "source": [
    "class class1:\n",
    "    def test_class1(self):\n",
    "        return\"methode of class1\""
   ]
  },
  {
   "cell_type": "code",
   "execution_count": 24,
   "id": "57f08267-d062-4a44-ac27-9d7dbe0c62ca",
   "metadata": {},
   "outputs": [],
   "source": [
    "class class2:\n",
    "    def test_class2(self):\n",
    "        return \"methode of class2\""
   ]
  },
  {
   "cell_type": "code",
   "execution_count": 25,
   "id": "fe623219-6926-44ac-8dd4-905ecd775934",
   "metadata": {},
   "outputs": [],
   "source": [
    "class class3(class1, class2):\n",
    "    pass"
   ]
  },
  {
   "cell_type": "code",
   "execution_count": 26,
   "id": "8721f51f-24e6-4db0-bb6f-84c73b453828",
   "metadata": {},
   "outputs": [],
   "source": [
    "obj_class3=class3()"
   ]
  },
  {
   "cell_type": "code",
   "execution_count": 29,
   "id": "beefdc8a-03df-448b-8234-56cc39cf2c0c",
   "metadata": {},
   "outputs": [
    {
     "data": {
      "text/plain": [
       "'methode of class1'"
      ]
     },
     "execution_count": 29,
     "metadata": {},
     "output_type": "execute_result"
    }
   ],
   "source": [
    "obj_class3.test_class1()"
   ]
  },
  {
   "cell_type": "code",
   "execution_count": 30,
   "id": "b6221a45-174f-4a4c-8ac7-3493d33840b0",
   "metadata": {},
   "outputs": [
    {
     "data": {
      "text/plain": [
       "'methode of class2'"
      ]
     },
     "execution_count": 30,
     "metadata": {},
     "output_type": "execute_result"
    }
   ],
   "source": [
    "obj_class3.test_class2()"
   ]
  },
  {
   "cell_type": "code",
   "execution_count": null,
   "id": "0c3e9eb9-2399-4972-8204-d75f75419101",
   "metadata": {},
   "outputs": [],
   "source": []
  }
 ],
 "metadata": {
  "kernelspec": {
   "display_name": "Python 3 (ipykernel)",
   "language": "python",
   "name": "python3"
  },
  "language_info": {
   "codemirror_mode": {
    "name": "ipython",
    "version": 3
   },
   "file_extension": ".py",
   "mimetype": "text/x-python",
   "name": "python",
   "nbconvert_exporter": "python",
   "pygments_lexer": "ipython3",
   "version": "3.10.8"
  }
 },
 "nbformat": 4,
 "nbformat_minor": 5
}
